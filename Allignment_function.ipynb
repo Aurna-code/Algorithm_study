{
 "cells": [
  {
   "cell_type": "markdown",
   "metadata": {
    "id": "UrUc7NgtN7n7"
   },
   "source": [
    "### 정렬 함수 만들기"
   ]
  },
  {
   "cell_type": "code",
   "execution_count": 170,
   "metadata": {
    "colab": {
     "base_uri": "https://localhost:8080/"
    },
    "id": "BB61ysCmTqcU",
    "outputId": "db836c8c-b6c1-4667-8d91-d65859181fbe"
   },
   "outputs": [
    {
     "name": "stdout",
     "output_type": "stream",
     "text": [
      "정수들을 입력해주세요. r을 입력하면 정수 입력이 중지됩니다.\n",
      "5\n",
      "3\n",
      "1\n",
      "25\n",
      "34\n",
      "76\n",
      "55\n",
      "43\n",
      "23\n",
      "65\n",
      "입력된 정수의 평균은  33.0 , 분산은  633.0 , 표준편차는  25.15949125081825 입니다.\n",
      "입력된 정수 중 최소값은 1 입니다.\n",
      "입력된 정수 중 최대값은 76 입니다.\n",
      "입력된 정수의 오름차순 정렬 :  [1, 3, 5, 23, 25, 34, 43, 55, 65, 76]\n",
      "입력된 정수의 내림차순 정렬 :  [76, 65, 55, 43, 34, 25, 23, 5, 3, 1]\n"
     ]
    }
   ],
   "source": [
    "# 입력부\n",
    "print(\"10개 이하의 정수들을 입력해주세요. r을 입력하면 정수 입력이 중지됩니다.\")\n",
    "nums = []\n",
    "while True:\n",
    "    scan = input()\n",
    "    if scan == 'r':\n",
    "      break\n",
    "    else:\n",
    "     nums.append(int(scan))\n",
    "    if len(nums) == 10:\n",
    "      break\n",
    "\n",
    "# 평균, 분산, 표준편차 함수\n",
    "def avg_var_sqrt(a):\n",
    " avg = sum(a) / len(a)\n",
    " var0 = 0\n",
    " for i in a:\n",
    "  var0 += (i - avg)**2\n",
    " var = var0 / len(a)\n",
    " sqrt = var**0.5\n",
    " print(\"입력된 정수의 평균은 \", avg, \", 분산은 \", var,\", 표준편차는 \", sqrt, \"입니다.\")\n",
    "\n",
    "# 최소값 함수\n",
    "def minimum(a):\n",
    "  mini = a[0]\n",
    "  for i in range(len(a)):\n",
    "    if a[i] < mini:\n",
    "      mini = a[i]\n",
    "  print(\"입력된 정수 중 최소값은\", mini, \"입니다.\")\n",
    "\n",
    "# 최대값 함수\n",
    "def maximum(a):\n",
    "  maxi = a[0]\n",
    "  for i in range(len(a)):\n",
    "    if a[i] > maxi:\n",
    "      maxi = a[i]\n",
    "  print(\"입력된 정수 중 최대값은\", maxi, \"입니다.\")\n",
    "\n",
    "# 오름차순 정렬 함수\n",
    "def onward(a):\n",
    "  for i in range(len(a)-1):\n",
    "    for j in range(0, len(a)-1-i):\n",
    "      if a[j+1] < a[j]:\n",
    "        temp = a[j+1]\n",
    "        a[j+1] = a[j]\n",
    "        a[j] = temp\n",
    "  print(\"입력된 정수의 오름차순 정렬 : \", a)\n",
    "\n",
    "# 내림차순 정렬 함수\n",
    "def downward(a):\n",
    "  for i in range(len(a)-1):\n",
    "    for j in range(0, len(a)-1-i):\n",
    "      if a[j+1] > a[j]:\n",
    "        temp = a[j+1] \n",
    "        a[j+1] = a[j]\n",
    "        a[j] = temp\n",
    "  print(\"입력된 정수의 내림차순 정렬 : \", a)\n",
    "\n",
    "# 함수 출력부\n",
    "avg_var_sqrt(nums)\n",
    "minimum(nums)\n",
    "maximum(nums)\n",
    "onward(nums)\n",
    "downward(nums)"
   ]
  }
 ],
 "metadata": {
  "colab": {
   "name": "20220418_김현일.ipynb",
   "provenance": []
  },
  "kernelspec": {
   "display_name": "Python 3 (ipykernel)",
   "language": "python",
   "name": "python3"
  },
  "language_info": {
   "codemirror_mode": {
    "name": "ipython",
    "version": 3
   },
   "file_extension": ".py",
   "mimetype": "text/x-python",
   "name": "python",
   "nbconvert_exporter": "python",
   "pygments_lexer": "ipython3",
   "version": "3.9.7"
  }
 },
 "nbformat": 4,
 "nbformat_minor": 4
}
