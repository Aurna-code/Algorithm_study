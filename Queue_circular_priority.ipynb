{
 "cells": [
  {
   "cell_type": "markdown",
   "metadata": {},
   "source": [
    "### 기본 큐 함수 구현\n",
    "    * FIFO"
   ]
  },
  {
   "cell_type": "code",
   "execution_count": null,
   "metadata": {},
   "outputs": [],
   "source": [
    "class queue:\n",
    "  def __init__(self):\n",
    "    self.items = []\n",
    "  def isEmpty(self):\n",
    "    return len(self.items) == 0\n",
    "  def enqueue(self, item):\n",
    "    self.items.append(item)\n",
    "  def dequeue(self):\n",
    "    if not self.isEmpty():\n",
    "      return self.items.pop(0)\n",
    "  def peek(self):\n",
    "    if not self.isEmpty(): \n",
    "      return self.items[-1]\n",
    "  def size(self):\n",
    "    if not self.isEmpty():\n",
    "      return len(self.items)\n",
    "    else:\n",
    "      print('no items in queue')\n",
    "  def clear(self):\n",
    "    self.items = []"
   ]
  },
  {
   "cell_type": "markdown",
   "metadata": {},
   "source": [
    "### 원형큐 함수 구현"
   ]
  },
  {
   "cell_type": "code",
   "execution_count": 2,
   "metadata": {
    "colab": {
     "base_uri": "https://localhost:8080/"
    },
    "executionInfo": {
     "elapsed": 277,
     "status": "ok",
     "timestamp": 1652575142063,
     "user": {
      "displayName": "chansu kim",
      "userId": "08030108897698733326"
     },
     "user_tz": -540
    },
    "id": "X3QHYCbYJlOF",
    "outputId": "f177b6b0-51bc-4189-b195-ae923c269cff"
   },
   "outputs": [
    {
     "name": "stdout",
     "output_type": "stream",
     "text": [
      "[f=0,r=8] ==>  [0, 1, 2, 3, 4, 5, 6, 7]\n",
      "[f=5,r=8] ==>  [5, 6, 7]\n",
      "[f=5,r=4] ==>  [5, 6, 7, 8, 9, 10, 11, 12, 13]\n"
     ]
    }
   ],
   "source": [
    "MAX_QSIZE = 10\t\t\t\t    \n",
    "class CircularQueue :\n",
    "    def __init__( self ) :\t\t\n",
    "        self.front = 0\t\t\t\n",
    "        self.rear = 0\t\t\t\n",
    "        self.items = [None] * MAX_QSIZE\t\n",
    "\n",
    "    def isEmpty( self ) : return self.front == self.rear\n",
    "    def isFull( self ) : return self.front == (self.rear+1)%MAX_QSIZE\n",
    "    def clear( self ) : self.front = self.rear\n",
    "\n",
    "    def enqueue( self, item ):\n",
    "        if not self.isFull():\t\t\t            \n",
    "            self.rear = (self.rear+1)% MAX_QSIZE\t\n",
    "            self.items[self.rear] = item\t\t    \n",
    "\n",
    "    def dequeue( self ):\n",
    "        if not self.isEmpty():\t\t\t            \n",
    "            self.front = (self.front+1)% MAX_QSIZE\t\n",
    "            return self.items[self.front]\t        \n",
    "\n",
    "    def peek( self ):\n",
    "        if not self.isEmpty():\n",
    "            return self.items[(self.front + 1) % MAX_QSIZE]\n",
    "\n",
    "    def size( self ) :\n",
    "       return (self.rear - self.front + MAX_QSIZE) % MAX_QSIZE\n",
    "\n",
    "    def display( self ):\n",
    "        out = []\n",
    "        if self.front < self.rear :\n",
    "            out = self.items[self.front+1:self.rear+1]\n",
    "        else:\n",
    "            out = self.items[self.front+1:MAX_QSIZE] \\\n",
    "                + self.items[0:self.rear+1]\t\t\n",
    "        print(\"[f=%s,r=%d] ==> \"%(self.front, self.rear), out)\n",
    "\n",
    "\n",
    "q = CircularQueue()\t\t\t       \n",
    "for i in range(8):\n",
    "    q.enqueue(i)\t\t\n",
    "q.display()\t\t\t            \t\n",
    "\n",
    "for i in range(5):\n",
    "    q.dequeue();\t\t\n",
    "q.display()\n",
    "\n",
    "for i in range(8,14):\n",
    "    q.enqueue(i)\n",
    "q.display()"
   ]
  },
  {
   "cell_type": "markdown",
   "metadata": {
    "id": "e1SncIKfJ3z6"
   },
   "source": [
    "### 우선순위 큐 구현"
   ]
  },
  {
   "cell_type": "code",
   "execution_count": 1,
   "metadata": {},
   "outputs": [],
   "source": [
    "class PriorityQueue :\n",
    "    def __init__( self ):\t\t\t\t\t\n",
    "        self.items = []\t\t\t\t\t\t\n",
    "\n",
    "    def isEmpty( self ):\t\t\t\t\t\n",
    "        return len( self.items ) == 0\n",
    "    def size( self ): return len(self.items)\n",
    "    def clear( self ): self.items = []\t\t\n",
    "\n",
    "    def enqueue( self, item ):\t\t\t\t\n",
    "        self.items.append( item )\t\t\t\n",
    "\n",
    "    def findMaxIndex( self ):\t\t\t\t\n",
    "        if self.isEmpty(): return None\n",
    "        else:\n",
    "            highest = 0\t\t\t\t\t\t\n",
    "            for i in range(1, self.size()) :\n",
    "                if self.items[i] > self.items[highest] :\n",
    "                    highest = i\t\n",
    "            return highest\t\t\n",
    "\n",
    "    def dequeue( self ):\t\t\n",
    "        highest = self.findMaxIndex()\t\t\n",
    "        if highest is not None :\n",
    "            return self.items.pop(highest)\t\n",
    "\n",
    "    def peek( self ):\t\t\t\t\n",
    "        highest = findMaxIndex()\t\n",
    "        if highest is not None :\n",
    "            return self.items[highest]"
   ]
  },
  {
   "cell_type": "markdown",
   "metadata": {},
   "source": [
    "### 우선순위 큐로 미로 길 찾기"
   ]
  },
  {
   "cell_type": "code",
   "execution_count": 2,
   "metadata": {},
   "outputs": [],
   "source": [
    "import math\t\t\t\t\n",
    "(ox,oy) = (5, 4)\t\t\n",
    "def dist(x,y) :\t\t\t \n",
    "    (dx, dy) = (ox-x, oy-y)\n",
    "    return math.sqrt(dx*dx + dy*dy)\t\n",
    "\n",
    "    def findMaxIndex( self ):\t\t\n",
    "        if self.isEmpty(): return None\n",
    "        else:\n",
    "            highest = 0\t\t\t\t\n",
    "            for i in range(1, self.size()) :\t\n",
    "                if self.items[i][2] > self.items[highest][2] :\n",
    "                    highest = i\t\t\n",
    "            return highest\t\t\t\n",
    "\n",
    "def isValidPos(x, y) :\t\t\n",
    "    if x < 0 or y < 0 or x >= MAZE_SIZE or y >= MAZE_SIZE :\n",
    "        return False\t\t\n",
    "    else :\t\t\t        \n",
    "        return map[y][x] == '0' or map[y][x] == 'x'\n",
    "\n",
    "def MySmartSearch() :\t\t\t\t\n",
    "    q = PriorityQueue()\t\t\t\t\n",
    "    q.enqueue((0,1,-dist(0,1)))\t\t\n",
    "    print('PQueue: ')\n",
    "\n",
    "    while not q.isEmpty(): \n",
    "        here = q.dequeue()\n",
    "        print(here[0:2], end='->')\t\n",
    "        x,y,_ = here\t\t\t\t\n",
    "        if (map[y][x] == 'x') : return True\n",
    "        else :\n",
    "            map[y][x] = '.'\n",
    "            if isValidPos(x, y - 1) : q.enqueue((x,y-1, -dist(x,y-1)))\n",
    "            if isValidPos(x, y + 1) : q.enqueue((x,y+1, -dist(x,y+1)))\n",
    "            if isValidPos(x - 1, y) : q.enqueue((x-1,y, -dist(x-1,y)))\n",
    "            if isValidPos(x + 1, y) : q.enqueue((x+1,y, -dist(x+1,y)))\n",
    "        print('우선순위큐: ', q.items)\n",
    "    return False"
   ]
  },
  {
   "cell_type": "code",
   "execution_count": 3,
   "metadata": {},
   "outputs": [],
   "source": [
    "map = [['1','1','1','1','1','1'],\n",
    "       ['e','0','0','0','0','1'],\n",
    "       ['1','0','1','0','1','1'],\n",
    "       ['1','0','1','0','0','x'],\n",
    "       ['1','1','1','0','1','1'],\n",
    "       ['1','1','1','1','1','1']]\n",
    "MAZE_SIZE = 6"
   ]
  },
  {
   "cell_type": "code",
   "execution_count": 5,
   "metadata": {},
   "outputs": [
    {
     "name": "stdout",
     "output_type": "stream",
     "text": [
      "PQueue: \n",
      "(0, 1)->우선순위큐:  [(1, 1, -5.0)]\n",
      "(1, 1)->우선순위큐:  [(1, 2, -4.47213595499958), (2, 1, -4.242640687119285)]\n",
      "(2, 1)->우선순위큐:  [(1, 2, -4.47213595499958), (3, 1, -3.605551275463989)]\n",
      "(3, 1)->우선순위큐:  [(1, 2, -4.47213595499958), (3, 2, -2.8284271247461903), (4, 1, -3.1622776601683795)]\n",
      "(4, 1)->우선순위큐:  [(1, 2, -4.47213595499958), (3, 2, -2.8284271247461903)]\n",
      "(3, 2)->우선순위큐:  [(1, 2, -4.47213595499958), (3, 3, -2.23606797749979)]\n",
      "(3, 3)->우선순위큐:  [(1, 2, -4.47213595499958), (3, 4, -2.0), (4, 3, -1.4142135623730951)]\n",
      "(4, 3)->우선순위큐:  [(1, 2, -4.47213595499958), (3, 4, -2.0), (5, 3, -1.0)]\n",
      "(5, 3)->"
     ]
    },
    {
     "data": {
      "text/plain": [
       "True"
      ]
     },
     "execution_count": 5,
     "metadata": {},
     "output_type": "execute_result"
    }
   ],
   "source": [
    "MySmartSearch()"
   ]
  },
  {
   "cell_type": "code",
   "execution_count": null,
   "metadata": {},
   "outputs": [],
   "source": []
  }
 ],
 "metadata": {
  "colab": {
   "authorship_tag": "ABX9TyP1BvZ4LgxQ64LoDhrKNJYe",
   "name": "자료구조_원형큐 구현.ipynb",
   "provenance": []
  },
  "kernelspec": {
   "display_name": "Python 3 (ipykernel)",
   "language": "python",
   "name": "python3"
  },
  "language_info": {
   "codemirror_mode": {
    "name": "ipython",
    "version": 3
   },
   "file_extension": ".py",
   "mimetype": "text/x-python",
   "name": "python",
   "nbconvert_exporter": "python",
   "pygments_lexer": "ipython3",
   "version": "3.9.7"
  }
 },
 "nbformat": 4,
 "nbformat_minor": 4
}
