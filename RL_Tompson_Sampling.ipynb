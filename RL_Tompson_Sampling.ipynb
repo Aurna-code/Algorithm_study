{
  "nbformat": 4,
  "nbformat_minor": 0,
  "metadata": {
    "colab": {
      "provenance": [],
      "collapsed_sections": []
    },
    "kernelspec": {
      "name": "python3",
      "display_name": "Python 3"
    },
    "language_info": {
      "name": "python"
    }
  },
  "cells": [
    {
      "cell_type": "code",
      "execution_count": null,
      "metadata": {
        "id": "5Xkk-WpJm9Hd"
      },
      "outputs": [],
      "source": [
        "import numpy as np\n",
        "import matplotlib.pyplot as plt\n",
        "import random"
      ]
    },
    {
      "cell_type": "markdown",
      "source": [
        "### Case 1 : AI 환경 정의\n",
        "* 동일한 게임이 설치된 5개의 슬롯머신\n",
        "* 슬롯머신이 판돈을 가져가면 보상은 -1이 되고 게임 참가자가 판돈을 따내면 \n",
        "보상은 +1\n",
        "* 목표 - 게임을 1000번 했을 때의 최대 금액을 얻는 전략 수립\n",
        "* 돈을 딸 확률이 가장 높은 슬롯머신을 찾으면 된다\n",
        "* 각 슬롯머신별 확률은 단순시행을 늘리면 쉽게 얻을 수 있으나, 최소한의 시도로 찾는 것이 중요 "
      ],
      "metadata": {
        "id": "JXZSEg-CzX4G"
      }
    },
    {
      "cell_type": "code",
      "source": [
        "# 전환율과 샘플 수 설정하기\n",
        "\n",
        "conversionRates = [0.15, 0.04, 0.13, 0.11, 0.05]\n",
        "N = 2000\n",
        "d = len(conversionRates)"
      ],
      "metadata": {
        "id": "4IYnATZssw4S"
      },
      "execution_count": null,
      "outputs": []
    },
    {
      "cell_type": "code",
      "source": [
        "# 승리 조건에 따른 데이터셋 생성하기\n",
        "\n",
        "X = np.zeros((N, d))\n",
        "for i in range(N):\n",
        "  for j in range(d):\n",
        "    if np.random.rand() < conversionRates[j]:\n",
        "      X[i][j] = 1"
      ],
      "metadata": {
        "id": "SIurTlLGsw7h"
      },
      "execution_count": null,
      "outputs": []
    },
    {
      "cell_type": "code",
      "source": [
        "print(X[:10])"
      ],
      "metadata": {
        "colab": {
          "base_uri": "https://localhost:8080/"
        },
        "id": "NjiCODtksw-q",
        "outputId": "633be8ac-e10a-4ef2-c001-b2fe4f70ec46"
      },
      "execution_count": null,
      "outputs": [
        {
          "output_type": "stream",
          "name": "stdout",
          "text": [
            "[[0. 0. 0. 0. 0.]\n",
            " [0. 0. 0. 0. 0.]\n",
            " [1. 0. 0. 0. 0.]\n",
            " [0. 1. 0. 0. 0.]\n",
            " [1. 0. 0. 0. 0.]\n",
            " [0. 0. 1. 1. 0.]\n",
            " [0. 0. 0. 0. 0.]\n",
            " [0. 0. 0. 0. 0.]\n",
            " [0. 0. 0. 1. 0.]\n",
            " [0. 0. 0. 0. 0.]]\n"
          ]
        }
      ]
    },
    {
      "cell_type": "code",
      "source": [
        "# 승패를 셀 배열 설정하기\n",
        "nPosReward = np.zeros(d)\n",
        "nNegReward = np.zeros(d)"
      ],
      "metadata": {
        "id": "JGYa-HbBsxBr"
      },
      "execution_count": null,
      "outputs": []
    },
    {
      "cell_type": "code",
      "source": [
        "# 베타 분포를 통해 최고의 슬롯머신을 선택하고 승패를 업데이트\n",
        "# 베타 분포 B(a,b)에서 매개변수 a가 클수록 분포가 오른쪽으로 더 많이 이동하고, 매개변수 b가 클수록 왼쪽으로 더 많이 이동한다.\n",
        "# 슬롯머신이 1(성공)을 더 많이 반환하면 분포가 오른쪽으로, 0(실패)를 반환하면 왼쪽으로 움직인다.\n",
        "\n",
        "for i in range(N):\n",
        "  selected = 0\n",
        "  maxRandom = 0\n",
        "  for j in range(d):\n",
        "    randomBeta = np.random.beta(nPosReward[j] + 1, nNegReward[j] + 1) # \n",
        "    if randomBeta > maxRandom:\n",
        "      maxRandom = randomBeta\n",
        "      selected = j\n",
        "  if X[i][selected] == 1:\n",
        "    nPosReward[selected] += 1\n",
        "  else:\n",
        "    nNegReward[selected] += 1"
      ],
      "metadata": {
        "id": "08VWhqlssxEj"
      },
      "execution_count": null,
      "outputs": []
    },
    {
      "cell_type": "code",
      "source": [
        "# 결론\n",
        "\n",
        "nSelected = nPosReward + nNegReward\n",
        "for i in range(d):\n",
        "  print('Machine number ' + str(i + 1) + ' was selected ' + str(nSelected[i]) + ' times')\n",
        "print('Conclusion: Best machine is machine number ' + str(np.argmax(nSelected) + 1))"
      ],
      "metadata": {
        "colab": {
          "base_uri": "https://localhost:8080/"
        },
        "id": "KwmWQFPfsxHI",
        "outputId": "8edd4e77-add0-4847-95dd-1f40085dc85e"
      },
      "execution_count": null,
      "outputs": [
        {
          "output_type": "stream",
          "name": "stdout",
          "text": [
            "Machine number 1 was selected 1395.0 times\n",
            "Machine number 2 was selected 49.0 times\n",
            "Machine number 3 was selected 181.0 times\n",
            "Machine number 4 was selected 292.0 times\n",
            "Machine number 5 was selected 83.0 times\n",
            "Conclusion: Best machine is machine number 1\n"
          ]
        }
      ]
    },
    {
      "cell_type": "code",
      "source": [],
      "metadata": {
        "id": "mwrpM1yBBTHO"
      },
      "execution_count": null,
      "outputs": []
    },
    {
      "cell_type": "markdown",
      "source": [
        "### Case 2: AI 환경 정의\n",
        "* 쇼핑몰 회사에서 10000명의 고객 샘플을 대상으로 9개의 특정한 광고 전략 대비 유료회원 전환율을 측정\n",
        "* Case 1과 사실상 동일한 환경. 10000 row * 9 column의 데이터셋 생성\n",
        "* Case 1과 마찬가지로 전환율은 데이터셋 제작과 평가에만 쓰임"
      ],
      "metadata": {
        "id": "J7PpHa5QBUYB"
      }
    },
    {
      "cell_type": "code",
      "source": [
        "# 매개변수 설정\n",
        "\n",
        "N = 10000\n",
        "d =9"
      ],
      "metadata": {
        "id": "95ar54WOsxPh"
      },
      "execution_count": null,
      "outputs": []
    },
    {
      "cell_type": "code",
      "source": [
        "#시뮬레이션 내 환경 생성\n",
        "\n",
        "conversion_rates = [0.05, 0.13, 0.09, 0.16, 0.11, 0.04, 0.20, 0.08, 0.01]\n",
        "X = np.array(np.zeros([N, d]))\n",
        "for i in range(N):\n",
        "  for j in range(d):\n",
        "    if np.random.rand() <= conversion_rates[j]:\n",
        "      X[i,j] = 1"
      ],
      "metadata": {
        "id": "qgvEI1o9sxR5"
      },
      "execution_count": null,
      "outputs": []
    },
    {
      "cell_type": "code",
      "source": [
        "print(X[:10])"
      ],
      "metadata": {
        "colab": {
          "base_uri": "https://localhost:8080/"
        },
        "id": "0HWISNKTBFJC",
        "outputId": "38dcee6c-282e-4a86-8981-9f7539e9983c"
      },
      "execution_count": null,
      "outputs": [
        {
          "output_type": "stream",
          "name": "stdout",
          "text": [
            "[[0. 0. 0. 0. 0. 0. 0. 0. 0.]\n",
            " [0. 0. 0. 0. 0. 0. 0. 0. 0.]\n",
            " [0. 0. 0. 0. 0. 0. 0. 0. 0.]\n",
            " [0. 0. 0. 0. 0. 0. 0. 0. 0.]\n",
            " [0. 0. 0. 0. 0. 0. 0. 0. 0.]\n",
            " [0. 0. 0. 0. 0. 0. 0. 0. 0.]\n",
            " [0. 0. 0. 0. 0. 0. 0. 0. 0.]\n",
            " [0. 1. 0. 0. 1. 0. 0. 0. 0.]\n",
            " [0. 0. 0. 0. 0. 0. 0. 0. 0.]\n",
            " [0. 0. 0. 0. 0. 0. 0. 0. 0.]]\n"
          ]
        }
      ]
    },
    {
      "cell_type": "code",
      "source": [
        "# 무작위 선택과 톰슨 샘플링 구현\n",
        "\n",
        " \n"
      ],
      "metadata": {
        "id": "vJXFq2-2N7i1"
      },
      "execution_count": null,
      "outputs": []
    },
    {
      "cell_type": "code",
      "source": [
        "strategies_selected_rs = []     # 라운드마다 무작위 선택 알고리즘에 의해 선택된 전략을 포함한 리스트\n",
        "\n",
        "strategies_selected_ts = []     # 라운드마다 톰슨 샘플링 모델에게 선택된 전략을 포함한 리스트\n",
        "\n",
        "total_reward_rs = 0            # 무작위 선택 알고리즘에 의해 라운드가 반복될 때마다 누적된 보상의 총합\n",
        "\n",
        "total_reward_ts = 0             # 톰슨 샘플링 모델에 의해 라운드가 반복될 때마다 누적된 보상의 총합\n",
        "\n",
        "numbers_of_rewards_1 = [0] * d   # 각 전략이 보상으로 1을 받은 횟수\n",
        "\n",
        "numbers_of_rewards_0 = [0] * d   # 각 전략이 보상으로 0을 받은 횟수"
      ],
      "metadata": {
        "id": "NwjtAC2mN7ll"
      },
      "execution_count": null,
      "outputs": []
    },
    {
      "cell_type": "code",
      "source": [
        "\n",
        "for n in range(0, N):\n",
        "  strategy_rs = random.randrange(d)\n",
        "  strategies_selected_rs.append(strategy_rs)\n",
        "  reward_rs = X[n, strategy_rs]\n",
        "  total_reward_rs = total_reward_rs + reward_rs\n",
        "  strategy_ts = 0\n",
        "  max_random = 0\n",
        "  for i in range(0, d):\n",
        "    random_beta = random.betavariate(numbers_of_rewards_1[i] + 1, numbers_of_rewards_0[i] + 1) # 톰슨 샘플링\n",
        "    if random_beta > max_random:\n",
        "      max_random = random_beta  \n",
        "      strategy_ts = i\n",
        "  \n",
        "  reward_ts = X[n, strategy_ts]\n",
        "  if reward_ts == 1:\n",
        "    numbers_of_rewards_1[strategy_ts] = numbers_of_rewards_1[strategy_ts] + 1\n",
        "  else:\n",
        "    numbers_of_rewards_0[strategy_ts] = numbers_of_rewards_0[strategy_ts] + 1\n",
        "  \n",
        "  strategies_selected_ts.append(strategy_ts)\n",
        "  \n",
        "\n",
        "\n",
        "# 상대 수익률 계산\n",
        "relative_return = (total_reward_ts - total_reward_rs) / total_reward_rs * 100\n",
        "print(\"Relative Return : \"f\"{relative_return:.0f}\")\n",
        "\n"
      ],
      "metadata": {
        "id": "xvFPFdiWN7oU",
        "colab": {
          "base_uri": "https://localhost:8080/"
        },
        "outputId": "f9a9387b-6f84-405d-9510-7aa0fb295ef8"
      },
      "execution_count": null,
      "outputs": [
        {
          "output_type": "stream",
          "name": "stdout",
          "text": [
            "Relative Return : -100\n"
          ]
        }
      ]
    },
    {
      "cell_type": "code",
      "source": [
        "tmeplist = []\n",
        "for i in range (1,10):\n",
        "  for j in range(1, 10):\n",
        "    tmeplist.append(np.random.beta(i,j))\n",
        "\n",
        "len(tmeplist)\n",
        "\n"
      ],
      "metadata": {
        "id": "BDUl_exuN7q8",
        "colab": {
          "base_uri": "https://localhost:8080/"
        },
        "outputId": "182d9c9a-d952-418d-ef48-880b310508c2"
      },
      "execution_count": null,
      "outputs": [
        {
          "output_type": "execute_result",
          "data": {
            "text/plain": [
              "81"
            ]
          },
          "metadata": {},
          "execution_count": 30
        }
      ]
    },
    {
      "cell_type": "code",
      "source": [
        "print(np.mean(tmeplist[0:9]))\n",
        "print(np.mean(tmeplist[10:19]))\n",
        "print(np.mean(tmeplist[20:29]))\n",
        "print(np.mean(tmeplist[30:39]))\n",
        "print(np.mean(tmeplist[40:49]))\n",
        "print(np.mean(tmeplist[50:59]))\n",
        "print(np.mean(tmeplist[60:69]))\n",
        "print(np.mean(tmeplist[70:79]))\n"
      ],
      "metadata": {
        "colab": {
          "base_uri": "https://localhost:8080/"
        },
        "id": "gGXPQaxGARjy",
        "outputId": "4e2828f1-cff5-42e8-fee3-f96160bb6005"
      },
      "execution_count": null,
      "outputs": [
        {
          "output_type": "stream",
          "name": "stdout",
          "text": [
            "0.18899828717103456\n",
            "0.3737016578061614\n",
            "0.44869131111580607\n",
            "0.45054955163712823\n",
            "0.549315506742202\n",
            "0.5009708277659487\n",
            "0.5600852989725098\n",
            "0.5945719399712057\n"
          ]
        }
      ]
    },
    {
      "cell_type": "code",
      "source": [],
      "metadata": {
        "id": "NI1G1cXEN7tc"
      },
      "execution_count": null,
      "outputs": []
    },
    {
      "cell_type": "code",
      "source": [],
      "metadata": {
        "id": "rSCorP2hN7v8"
      },
      "execution_count": null,
      "outputs": []
    },
    {
      "cell_type": "code",
      "source": [],
      "metadata": {
        "id": "9ppSb6DcN7yU"
      },
      "execution_count": null,
      "outputs": []
    }
  ]
}