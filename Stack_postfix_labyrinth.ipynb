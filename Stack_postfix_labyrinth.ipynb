{
 "cells": [
  {
   "cell_type": "markdown",
   "metadata": {},
   "source": [
    "### 스택 함수 \n",
    " * LIFO"
   ]
  },
  {
   "cell_type": "code",
   "execution_count": 9,
   "metadata": {
    "id": "1TQL1E86d32Q"
   },
   "outputs": [],
   "source": [
    "class Stack :\n",
    "    def __init__( self ):   \n",
    "        self.top = []       \n",
    "\n",
    "    def isEmpty( self ): return len(self.top) == 0\n",
    "\n",
    "    def size( self ): return len(self.top)\n",
    "\n",
    "    def clear( self ): self.top = []\n",
    "\n",
    "    def push( self, item ):\n",
    "        self.top.append(item)\n",
    "\n",
    "    def pop( self ):\n",
    "        if not self.isEmpty():\n",
    "            return self.top.pop(-1)\n",
    "\n",
    "    def peek( self ):\n",
    "        if not self.isEmpty():\n",
    "            return self.top[-1]\n",
    "\n",
    "    def __str__(self ):\n",
    "        return str(self.top[::-1])"
   ]
  },
  {
   "cell_type": "code",
   "execution_count": null,
   "metadata": {},
   "outputs": [],
   "source": []
  },
  {
   "cell_type": "markdown",
   "metadata": {},
   "source": [
    "### 스택 함수를 이용하여 중위계산식을 후위계산식으로 만들기"
   ]
  },
  {
   "cell_type": "code",
   "execution_count": 20,
   "metadata": {
    "id": "itB7MHKad6iE"
   },
   "outputs": [
    {
     "name": "stdout",
     "output_type": "stream",
     "text": [
      "['8', '2', '/', '3', '-', '3', '2', '*', '+']  -->  7.0\n",
      "['1', '2', '/', '4', '*', '1', '4', '/', '*']  -->  0.5\n"
     ]
    }
   ],
   "source": [
    "def evalPostfix(expr): # 인자로 예시 스택 연산문 투입\n",
    "    s = Stack()\t           # 만들어둔 스택 함수 사용\t\t       \n",
    "    for token in expr :\t\t\t# 연산문의 요소당\n",
    "        if token in \"+-*/\" :\t# 연산기호가 탐지되면\n",
    "            val2 = s.pop()\t\t# 앞의 두 숫자를 val1과 val2에 저장\n",
    "            val1 = s.pop()\n",
    "            if (token == '+'):  # 연산기호에 따라 val1과 val2를 연산하여 스택에 저장\n",
    "                 s.push(val1 + val2)\t\n",
    "            elif (token == '-'):\n",
    "                 s.push(val1 - val2)\n",
    "            elif (token == '*'):\n",
    "                 s.push(val1 * val2)\n",
    "            elif (token == '/'):\n",
    "                 s.push(val1 / val2)\n",
    "        else :\t\t\t\t        \n",
    "            s.push( float(token) )  # 연산기호가 아닐 경우 float형태의 연산문 요소(숫자)를 스택에 저장\n",
    "    return s.pop()\t# 스택의 최종 숫자를 리턴\n",
    "\n",
    "expr1 = [ '8', '2', '/', '3', '-', '3', '2', '*', '+']\n",
    "expr2 = [ '1', '2', '/', '4', '*', '1', '4', '/', '*']\n",
    "print(expr1, ' --> ', evalPostfix(expr1))\n",
    "print(expr2, ' --> ', evalPostfix(expr2))"
   ]
  },
  {
   "cell_type": "code",
   "execution_count": null,
   "metadata": {},
   "outputs": [],
   "source": []
  },
  {
   "cell_type": "markdown",
   "metadata": {
    "id": "01YXvZTC4X1x"
   },
   "source": [
    "### 스택 함수를 이용하여 깊이 우선 방식으로 미로의 출구를 탐색하기"
   ]
  },
  {
   "cell_type": "code",
   "execution_count": 17,
   "metadata": {
    "id": "XQEpHCW_6aCg"
   },
   "outputs": [],
   "source": [
    "def isValidPos(x, y) : # DFS_2의 here 값이 설정된 미로의 범위를 벗어나지 않는지 여부를 체크하고 벗어나지 않을 경우 정상 경로인 0 혹은 출구인 x 반환\n",
    "    if x < 0 or y < 0 or x >= MAZE_SIZE or y >= MAZE_SIZE :   # x,y 좌표 값이 -1이 되거나 x,y값이 MAZE_SIZE로 설정된 6 이상이 되어 미로를 벗어나는가\n",
    "        return False  # \n",
    "    else :\n",
    "        return map[y][x] == '0' or map[y][x] == 'x'  # 미로의 벽 설정인 1로는 가지 않고, DFS 함수에서 . 로 표시된 지나온 곳으로 다시 가지 않도록 방지"
   ]
  },
  {
   "cell_type": "code",
   "execution_count": 18,
   "metadata": {
    "colab": {
     "base_uri": "https://localhost:8080/"
    },
    "id": "lglk7Jy5WXWJ",
    "outputId": "aa6dc2b4-970a-4396-cb28-de0e941b8b29"
   },
   "outputs": [
    {
     "name": "stdout",
     "output_type": "stream",
     "text": [
      "DFS: \n",
      "(0, 1)-> 현재 스택:  [(1, 1)]\n",
      "(1, 1)-> 현재 스택:  [(2, 1), (1, 2)]\n",
      "(2, 1)-> 현재 스택:  [(3, 1), (1, 2)]\n",
      "(3, 1)-> 현재 스택:  [(4, 1), (3, 2), (1, 2)]\n",
      "(4, 1)-> 현재 스택:  [(3, 2), (1, 2)]\n",
      "(3, 2)-> 현재 스택:  [(3, 3), (1, 2)]\n",
      "(3, 3)-> 현재 스택:  [(4, 3), (3, 4), (1, 2)]\n",
      "(4, 3)-> 현재 스택:  [(5, 3), (3, 4), (1, 2)]\n",
      "(5, 3)-> --> 미로탐색 성공\n"
     ]
    }
   ],
   "source": [
    "def DFS() :\t\t\t   \n",
    "    stack = Stack()\n",
    "    stack.push((0,1))  # 시작점의 최초 좌표값을 스택에 넣기\n",
    "    print('DFS: ')\n",
    "\n",
    "    while not stack.isEmpty():\n",
    "        here = stack.pop() # 좌표값을 here에 반환하고 pop\n",
    "        print(here, end='->')\n",
    "        (x, y) = here\t\t     \n",
    "        if (map[y][x] == 'x') : #  최종지점에 오면 while 문 끝\n",
    "            return True\n",
    "        else :\n",
    "            map[y][x] = '.'\t # 지나온 곳을 다시 안 가기 위해 마침표 표시\n",
    "            \n",
    "            if isValidPos(x, y - 1): stack.push((x, y - 1)) # isValidPos 함수를 활용해 스택에 넣을 다음 좌표값 탐색\n",
    "            if isValidPos(x, y + 1): stack.push((x, y + 1)) # LIFO인 스택의 구조상 here의 좌표는 한 가지 경로가 막힐 때까지 가는 깊이 우선이 됨\n",
    "            if isValidPos(x - 1, y): stack.push((x - 1, y)) \n",
    "            if isValidPos(x + 1, y): stack.push((x + 1, y)) \n",
    "        print(' 현재 스택: ', stack)\t\n",
    "    return False\t\t\t            \n",
    "\n",
    "\n",
    "map = [ [ '1', '1', '1', '1', '1', '1' ],  # 미로 좌표\n",
    "\t  [ 'e', '0', '0', '0', '0', '1' ],\n",
    "\t  [ '1', '0', '1', '0', '1', '1' ],\n",
    "\t  [ '1', '1', '1', '0', '0', 'x' ],\n",
    "\t  [ '1', '1', '1', '0', '1', '1' ],\n",
    "\t  [ '1', '1', '1', '1', '1', '1' ]]\n",
    "\n",
    "MAZE_SIZE = 6    # 미로 사이즈를 지정해줘야 벗어나지 않음\n",
    "result = DFS()\n",
    "if result : print(' --> 미로탐색 성공')\n",
    "else : print(' --> 미로탐색 실패')"
   ]
  }
 ],
 "metadata": {
  "colab": {
   "name": "22020517_김현일.ipynb",
   "provenance": []
  },
  "kernelspec": {
   "display_name": "Python 3 (ipykernel)",
   "language": "python",
   "name": "python3"
  },
  "language_info": {
   "codemirror_mode": {
    "name": "ipython",
    "version": 3
   },
   "file_extension": ".py",
   "mimetype": "text/x-python",
   "name": "python",
   "nbconvert_exporter": "python",
   "pygments_lexer": "ipython3",
   "version": "3.9.7"
  }
 },
 "nbformat": 4,
 "nbformat_minor": 4
}
